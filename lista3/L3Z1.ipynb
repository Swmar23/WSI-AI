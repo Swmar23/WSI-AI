{
  "nbformat": 4,
  "nbformat_minor": 0,
  "metadata": {
    "colab": {
      "provenance": [],
      "authorship_tag": "ABX9TyPYSyLac5D57jNvfThbBFzd",
      "include_colab_link": true
    },
    "kernelspec": {
      "name": "python3",
      "display_name": "Python 3"
    },
    "language_info": {
      "name": "python"
    }
  },
  "cells": [
    {
      "cell_type": "markdown",
      "metadata": {
        "id": "view-in-github",
        "colab_type": "text"
      },
      "source": [
        "<a href=\"https://colab.research.google.com/github/Swmar23/WSI-AI/blob/main/lista3/L3Z1.ipynb\" target=\"_parent\"><img src=\"https://colab.research.google.com/assets/colab-badge.svg\" alt=\"Open In Colab\"/></a>"
      ]
    },
    {
      "cell_type": "markdown",
      "source": [
        "Marek Świergoń 261750\n",
        "\n",
        "# **Sprawozdanie z zadania 1 z listy 3 — laboratorium z Wprowadzenia do Sztucznej Inteligencji.**\n",
        "\n",
        "Celem zadania było stworzenie i wytrenowanie sieci neuronowej do rozpoznawania cyfr z obrazków rozmiaru 28 na 28 pikseli. Za zbiór danych do uczenia sieci przyjęty został [The MNIST Database of Handwritten Digits](http://yann.lecun.com/exdb/mnist/).\n",
        "\n",
        "Do utworzenia sieci neuronowej wykorzystałem bibliotekę [Keras](https://keras.io/). Sieć na wstępie otrzymuje dane spłaszczone do tablicy jednowymiarowej mającej 28 * 28 = 784 elementów. Kazdy element ma mieć wartość z zakresu 0.0 - 1.0, zatem wartości pikseli (będące w 8-bitowej odwróconej skali szarości) zostały przeskalowane. Warstwa wewnętrzna sieci składa się z 128 węzłów będących połączonymi z każdym węzłem warstwy wejściowej. Jako funkcję aktywacji zastosowana została ReLU. Warstwa klasyfikacji składa się z 10 węzłów odpowiadających cyfrom, które sieć ma rozpoznawać. Aby zapobiec przetrenowaniu wykorzystano warstwę Dropout, która odpowiada za wyzerowanie losowych wartości wejściowych - parametr 0.25 oznacza, że średnio co 4 element danych jest zerowany. Na koniec wyjście jest modyfikowane z pomocą funkcji softmax.\n",
        "\n",
        "Do funkcji straty (która będzie minimalizowana) skorzystano z entropii krzyżowej między oczekiwanymi wartościami a predykcjami modelu.\n",
        "\n",
        "Wszystkie elementy bazy treningowej zostały wykorzystane w szkoleniu sieci 5 razy (epochs=5).\n",
        "\n",
        "Model ostatecznie został sprawdzony na danych testowych, dla których współczynnik rozpoznawalności wyszedł równy 97,7%.\n",
        "\n",
        "Model został zapisany do pliku aby później wykorzystać go w zadaniu 2.\n",
        "\n",
        "Poniższy kod realizuje cele zadania 1."
      ],
      "metadata": {
        "id": "U33Nzkd_p5Ig"
      }
    },
    {
      "cell_type": "code",
      "source": [
        "# Marek Świergoń 261750\n",
        "import tensorflow as tf\n",
        "\n",
        "print (\"TensorFlow version:\", tf.__version__)\n",
        "\n",
        "mnistDataSet = tf.keras.datasets.mnist\n",
        "\n",
        "\n",
        "(data_train, labels_train), (data_test, labels_test) = mnistDataSet.load_data()\n",
        "\n",
        "# Scaling values of pixels from integer 0 - 255 to double 0.0 - 1.0\n",
        "data_train, data_test = data_train / 255.0, data_test / 255.0\n",
        "\n",
        "model = tf.keras.models.Sequential()\n",
        "\n",
        "# Creating one dimensional array\n",
        "model.add(tf.keras.layers.Flatten(input_shape=(28, 28)))\n",
        "\n",
        "# Fully connected layer\n",
        "model.add(tf.keras.layers.Dense(128, activation='relu'))\n",
        "\n",
        "# Randomly getting rid off of portion of data to prevent overtraining.\n",
        "model.add(tf.keras.layers.Dropout(0.25))\n",
        "\n",
        "# Last layer to clasify numbers\n",
        "model.add(tf.keras.layers.Dense(10, activation='softmax'))\n",
        "\n",
        "loss_fn = tf.keras.losses.SparseCategoricalCrossentropy(from_logits=True)\n",
        "\n",
        "model.compile(optimizer='adam', loss=loss_fn, metrics=['accuracy'])\n",
        "\n",
        "model.fit(data_train, labels_train, epochs=5)\n",
        "\n",
        "model.summary()\n",
        "\n",
        "model.evaluate(data_test,  labels_test, verbose=2)\n",
        "\n",
        "model.save(\"mnist_recognition_model.h5\")\n",
        "\n",
        "\n",
        "\n",
        "\n"
      ],
      "metadata": {
        "colab": {
          "base_uri": "https://localhost:8080/"
        },
        "id": "Jp59Uresqsg5",
        "outputId": "e376a781-64fd-4631-c349-e1d04b8dc185"
      },
      "execution_count": null,
      "outputs": [
        {
          "output_type": "stream",
          "name": "stdout",
          "text": [
            "TensorFlow version: 2.12.0\n",
            "Epoch 1/5\n",
            "1875/1875 [==============================] - 6s 3ms/step - loss: 0.3020 - accuracy: 0.9114\n",
            "Epoch 2/5\n",
            "1875/1875 [==============================] - 5s 3ms/step - loss: 0.1501 - accuracy: 0.9546\n",
            "Epoch 3/5\n",
            "1875/1875 [==============================] - 5s 2ms/step - loss: 0.1145 - accuracy: 0.9647\n",
            "Epoch 4/5\n",
            "1875/1875 [==============================] - 5s 3ms/step - loss: 0.0955 - accuracy: 0.9708\n",
            "Epoch 5/5\n",
            "1875/1875 [==============================] - 5s 3ms/step - loss: 0.0827 - accuracy: 0.9736\n",
            "Model: \"sequential_6\"\n",
            "_________________________________________________________________\n",
            " Layer (type)                Output Shape              Param #   \n",
            "=================================================================\n",
            " flatten_6 (Flatten)         (None, 784)               0         \n",
            "                                                                 \n",
            " dense_12 (Dense)            (None, 128)               100480    \n",
            "                                                                 \n",
            " dropout_6 (Dropout)         (None, 128)               0         \n",
            "                                                                 \n",
            " dense_13 (Dense)            (None, 10)                1290      \n",
            "                                                                 \n",
            "=================================================================\n",
            "Total params: 101,770\n",
            "Trainable params: 101,770\n",
            "Non-trainable params: 0\n",
            "_________________________________________________________________\n",
            "313/313 - 0s - loss: 0.0720 - accuracy: 0.9772 - 440ms/epoch - 1ms/step\n"
          ]
        }
      ]
    }
  ]
}